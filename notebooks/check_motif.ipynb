{
 "cells": [
  {
   "cell_type": "code",
   "execution_count": 1,
   "id": "940d2175",
   "metadata": {},
   "outputs": [],
   "source": [
    "import os, sys, shutil\n",
    "import pathlib\n",
    "import glob as glob\n",
    "import numpy as np\n",
    "import re\n",
    "import warnings\n",
    "from pdbfixer import PDBFixer\n",
    "from openmm.app import PDBxFile, PDBFile\n",
    "import mdtraj as md"
   ]
  },
  {
   "cell_type": "code",
   "execution_count": 2,
   "id": "0526ca46",
   "metadata": {},
   "outputs": [],
   "source": [
    "#warnings.filterwarnings(\"ignore\")"
   ]
  },
  {
   "cell_type": "code",
   "execution_count": 3,
   "id": "c4290975",
   "metadata": {},
   "outputs": [],
   "source": [
    "def check_file(file):\n",
    "    \"\"\"\n",
    "    \"\"\"    \n",
    "    basename = os.path.basename(file)\n",
    "    #print(\">{}\".format(basename))\n",
    "\n",
    "    with warnings.catch_warnings(record=True) as w:\n",
    "        warnings.simplefilter(\"default\")\n",
    "        fixer = PDBFixer(filename=file)\n",
    "    fixer.findMissingResidues()\n",
    "    fixer.findMissingAtoms()\n",
    "\n",
    "    \n",
    "    n_atoms = 0\n",
    "    n_residues = 0\n",
    "    with open(file, \"r\") as rf:\n",
    "        for l in rf.readlines():\n",
    "            _l = l.strip('\\n').split()\n",
    "            if l.startswith(\"ATOM\"):\n",
    "                n_atoms += 1\n",
    "                symbol = _l[2]\n",
    "                if symbol == \"P\":\n",
    "                    n_residues += 1\n",
    "\n",
    "\n",
    "    if fixer.topology.getNumResidues() != n_residues:\n",
    "        print(\"{}: Perhaps same residue ID? Number of residues does not match (residues: {}->{} / atoms: {}->{})\".format(basename, \\\n",
    "                                                                                                                         n_residues, fixer.topology.getNumResidues(), \\\n",
    "                                                                                                                         n_atoms, fixer.topology.getNumAtoms()))\n",
    "        print(\"-----------------------------\\n\")\n",
    "        \n",
    "        shutil.move(file, file + \".warning\")\n",
    "    elif fixer.missingAtoms:\n",
    "        print(\"{}: add missing atoms. check manually\".format(basename))\n",
    "        print(fixer.missingAtoms)\n",
    "        print(\"-----------------------------\\n\")\n",
    "        fixer.addMissingAtoms()\n",
    "        shutil.move(file, file + \".missing_atoms\")\n",
    "        PDBxFile.writeFile(fixer.topology, fixer.positions, open(file + \".missing_atoms_added\", \"w\"))"
   ]
  },
  {
   "cell_type": "code",
   "execution_count": 4,
   "id": "8714fa2b",
   "metadata": {},
   "outputs": [
    {
     "name": "stdout",
     "output_type": "stream",
     "text": [
      "HL_44730.2.cif: Perhaps same residue ID? Number of residues does not match (residues: 6->3 / atoms: 126->26)\n",
      "-----------------------------\n",
      "\n"
     ]
    },
    {
     "name": "stderr",
     "output_type": "stream",
     "text": [
      "Warning: importing 'simtk.openmm' is deprecated.  Import 'openmm' instead.\n"
     ]
    },
    {
     "name": "stdout",
     "output_type": "stream",
     "text": [
      "HL_51090.1.cif: add missing atoms. check manually\n",
      "{<Residue 9 (A) of chain 0>: [<Atom 0 (P) of chain 0 residue 0 (A)>, <Atom 1 (OP1) of chain 0 residue 0 (A)>, <Atom 2 (OP2) of chain 0 residue 0 (A)>, <Atom 3 (O5') of chain 0 residue 0 (A)>, <Atom 4 (C5') of chain 0 residue 0 (A)>, <Atom 5 (C4') of chain 0 residue 0 (A)>, <Atom 6 (O4') of chain 0 residue 0 (A)>, <Atom 7 (C3') of chain 0 residue 0 (A)>, <Atom 8 (O3') of chain 0 residue 0 (A)>, <Atom 9 (C2') of chain 0 residue 0 (A)>, <Atom 10 (O2') of chain 0 residue 0 (A)>, <Atom 11 (C1') of chain 0 residue 0 (A)>, <Atom 15 (C5) of chain 0 residue 0 (A)>, <Atom 16 (C6) of chain 0 residue 0 (A)>, <Atom 18 (N1) of chain 0 residue 0 (A)>, <Atom 19 (C2) of chain 0 residue 0 (A)>, <Atom 20 (N3) of chain 0 residue 0 (A)>, <Atom 21 (C4) of chain 0 residue 0 (A)>]}\n",
      "-----------------------------\n",
      "\n",
      "HL_01181.4.cif: Perhaps same residue ID? Number of residues does not match (residues: 7->8 / atoms: 162->162)\n",
      "-----------------------------\n",
      "\n",
      "HL_70505.1.cif: add missing atoms. check manually\n",
      "{<Residue 6 (C) of chain 0>: [<Atom 0 (P) of chain 0 residue 0 (C)>, <Atom 1 (OP1) of chain 0 residue 0 (C)>, <Atom 2 (OP2) of chain 0 residue 0 (C)>, <Atom 3 (O5') of chain 0 residue 0 (C)>, <Atom 4 (C5') of chain 0 residue 0 (C)>, <Atom 5 (C4') of chain 0 residue 0 (C)>, <Atom 6 (O4') of chain 0 residue 0 (C)>, <Atom 7 (C3') of chain 0 residue 0 (C)>, <Atom 8 (O3') of chain 0 residue 0 (C)>, <Atom 9 (C2') of chain 0 residue 0 (C)>, <Atom 10 (O2') of chain 0 residue 0 (C)>, <Atom 11 (C1') of chain 0 residue 0 (C)>, <Atom 12 (N1) of chain 0 residue 0 (C)>, <Atom 13 (C2) of chain 0 residue 0 (C)>, <Atom 15 (N3) of chain 0 residue 0 (C)>, <Atom 16 (C4) of chain 0 residue 0 (C)>, <Atom 18 (C5) of chain 0 residue 0 (C)>, <Atom 19 (C6) of chain 0 residue 0 (C)>]}\n",
      "-----------------------------\n",
      "\n",
      "HL_35188.1.cif: add missing atoms. check manually\n",
      "{<Residue 5 (U) of chain 0>: [<Atom 0 (P) of chain 0 residue 0 (U)>, <Atom 1 (OP1) of chain 0 residue 0 (U)>, <Atom 2 (OP2) of chain 0 residue 0 (U)>, <Atom 3 (O5') of chain 0 residue 0 (U)>, <Atom 4 (C5') of chain 0 residue 0 (U)>, <Atom 5 (C4') of chain 0 residue 0 (U)>, <Atom 6 (O4') of chain 0 residue 0 (U)>, <Atom 7 (C3') of chain 0 residue 0 (U)>, <Atom 8 (O3') of chain 0 residue 0 (U)>, <Atom 9 (C2') of chain 0 residue 0 (U)>, <Atom 10 (O2') of chain 0 residue 0 (U)>, <Atom 11 (C1') of chain 0 residue 0 (U)>, <Atom 12 (N1) of chain 0 residue 0 (U)>, <Atom 13 (C2) of chain 0 residue 0 (U)>, <Atom 14 (O2) of chain 0 residue 0 (U)>, <Atom 15 (N3) of chain 0 residue 0 (U)>, <Atom 16 (C4) of chain 0 residue 0 (U)>, <Atom 18 (C5) of chain 0 residue 0 (U)>, <Atom 19 (C6) of chain 0 residue 0 (U)>]}\n",
      "-----------------------------\n",
      "\n",
      "HL_49873.1.cif: add missing atoms. check manually\n",
      "{<Residue 9 (A) of chain 0>: [<Atom 0 (P) of chain 0 residue 0 (A)>, <Atom 1 (OP1) of chain 0 residue 0 (A)>, <Atom 2 (OP2) of chain 0 residue 0 (A)>, <Atom 3 (O5') of chain 0 residue 0 (A)>, <Atom 4 (C5') of chain 0 residue 0 (A)>, <Atom 5 (C4') of chain 0 residue 0 (A)>, <Atom 6 (O4') of chain 0 residue 0 (A)>, <Atom 7 (C3') of chain 0 residue 0 (A)>, <Atom 8 (O3') of chain 0 residue 0 (A)>, <Atom 9 (C2') of chain 0 residue 0 (A)>, <Atom 10 (O2') of chain 0 residue 0 (A)>, <Atom 11 (C1') of chain 0 residue 0 (A)>, <Atom 15 (C5) of chain 0 residue 0 (A)>, <Atom 16 (C6) of chain 0 residue 0 (A)>, <Atom 18 (N1) of chain 0 residue 0 (A)>, <Atom 19 (C2) of chain 0 residue 0 (A)>, <Atom 20 (N3) of chain 0 residue 0 (A)>, <Atom 21 (C4) of chain 0 residue 0 (A)>]}\n",
      "-----------------------------\n",
      "\n",
      "HL_19239.1.cif: add missing atoms. check manually\n",
      "{<Residue 9 (A) of chain 0>: [<Atom 0 (P) of chain 0 residue 0 (A)>, <Atom 1 (OP1) of chain 0 residue 0 (A)>, <Atom 2 (OP2) of chain 0 residue 0 (A)>, <Atom 3 (O5') of chain 0 residue 0 (A)>, <Atom 4 (C5') of chain 0 residue 0 (A)>, <Atom 5 (C4') of chain 0 residue 0 (A)>, <Atom 6 (O4') of chain 0 residue 0 (A)>, <Atom 7 (C3') of chain 0 residue 0 (A)>, <Atom 8 (O3') of chain 0 residue 0 (A)>, <Atom 9 (C2') of chain 0 residue 0 (A)>, <Atom 10 (O2') of chain 0 residue 0 (A)>, <Atom 11 (C1') of chain 0 residue 0 (A)>, <Atom 15 (C5) of chain 0 residue 0 (A)>, <Atom 16 (C6) of chain 0 residue 0 (A)>, <Atom 18 (N1) of chain 0 residue 0 (A)>, <Atom 19 (C2) of chain 0 residue 0 (A)>, <Atom 20 (N3) of chain 0 residue 0 (A)>, <Atom 21 (C4) of chain 0 residue 0 (A)>]}\n",
      "-----------------------------\n",
      "\n",
      "HL_48810.1.cif: Perhaps same residue ID? Number of residues does not match (residues: 11->10 / atoms: 236->216)\n",
      "-----------------------------\n",
      "\n",
      "IL_46464.1.cif: Perhaps same residue ID? Number of residues does not match (residues: 9->8 / atoms: 194->154)\n",
      "-----------------------------\n",
      "\n",
      "IL_51971.1.cif: Perhaps same residue ID? Number of residues does not match (residues: 6->3 / atoms: 130->65)\n",
      "-----------------------------\n",
      "\n",
      "IL_77341.1.cif: Perhaps same residue ID? Number of residues does not match (residues: 6->3 / atoms: 132->66)\n",
      "-----------------------------\n",
      "\n",
      "IL_39900.1.cif: Perhaps same residue ID? Number of residues does not match (residues: 5->6 / atoms: 123->123)\n",
      "-----------------------------\n",
      "\n",
      "IL_16160.1.cif: Perhaps same residue ID? Number of residues does not match (residues: 6->3 / atoms: 188->94)\n",
      "-----------------------------\n",
      "\n",
      "IL_50112.1.cif: Perhaps same residue ID? Number of residues does not match (residues: 8->4 / atoms: 166->83)\n",
      "-----------------------------\n",
      "\n",
      "IL_57188.3.cif: add missing atoms. check manually\n",
      "{<Residue 10 (A) of chain 0>: [<Atom 0 (P) of chain 0 residue 0 (A)>, <Atom 1 (OP1) of chain 0 residue 0 (A)>, <Atom 2 (OP2) of chain 0 residue 0 (A)>, <Atom 3 (O5') of chain 0 residue 0 (A)>, <Atom 4 (C5') of chain 0 residue 0 (A)>, <Atom 5 (C4') of chain 0 residue 0 (A)>, <Atom 6 (O4') of chain 0 residue 0 (A)>, <Atom 7 (C3') of chain 0 residue 0 (A)>, <Atom 8 (O3') of chain 0 residue 0 (A)>, <Atom 9 (C2') of chain 0 residue 0 (A)>, <Atom 10 (O2') of chain 0 residue 0 (A)>, <Atom 11 (C1') of chain 0 residue 0 (A)>, <Atom 15 (C5) of chain 0 residue 0 (A)>, <Atom 16 (C6) of chain 0 residue 0 (A)>, <Atom 18 (N1) of chain 0 residue 0 (A)>, <Atom 19 (C2) of chain 0 residue 0 (A)>, <Atom 20 (N3) of chain 0 residue 0 (A)>, <Atom 21 (C4) of chain 0 residue 0 (A)>]}\n",
      "-----------------------------\n",
      "\n",
      "IL_89836.1.cif: Perhaps same residue ID? Number of residues does not match (residues: 12->11 / atoms: 262->240)\n",
      "-----------------------------\n",
      "\n",
      "IL_22427.1.cif: Perhaps same residue ID? Number of residues does not match (residues: 8->4 / atoms: 166->83)\n",
      "-----------------------------\n",
      "\n",
      "IL_80617.1.cif: Perhaps same residue ID? Number of residues does not match (residues: 6->3 / atoms: 130->65)\n",
      "-----------------------------\n",
      "\n",
      "IL_77034.1.cif: add missing atoms. check manually\n",
      "{<Residue 4 (A) of chain 0>: [<Atom 0 (P) of chain 0 residue 0 (A)>, <Atom 1 (OP1) of chain 0 residue 0 (A)>, <Atom 2 (OP2) of chain 0 residue 0 (A)>, <Atom 3 (O5') of chain 0 residue 0 (A)>, <Atom 4 (C5') of chain 0 residue 0 (A)>, <Atom 5 (C4') of chain 0 residue 0 (A)>, <Atom 6 (O4') of chain 0 residue 0 (A)>, <Atom 7 (C3') of chain 0 residue 0 (A)>, <Atom 8 (O3') of chain 0 residue 0 (A)>, <Atom 9 (C2') of chain 0 residue 0 (A)>, <Atom 10 (O2') of chain 0 residue 0 (A)>, <Atom 11 (C1') of chain 0 residue 0 (A)>, <Atom 15 (C5) of chain 0 residue 0 (A)>, <Atom 16 (C6) of chain 0 residue 0 (A)>, <Atom 18 (N1) of chain 0 residue 0 (A)>, <Atom 19 (C2) of chain 0 residue 0 (A)>, <Atom 20 (N3) of chain 0 residue 0 (A)>, <Atom 21 (C4) of chain 0 residue 0 (A)>]}\n",
      "-----------------------------\n",
      "\n",
      "IL_64414.1.cif: Perhaps same residue ID? Number of residues does not match (residues: 12->13 / atoms: 410->410)\n",
      "-----------------------------\n",
      "\n",
      "J3_7RQB_030.cif: Perhaps same residue ID? Number of residues does not match (residues: 15->10 / atoms: 324->137)\n",
      "-----------------------------\n",
      "\n",
      "J3_7RQ8_031.cif: Perhaps same residue ID? Number of residues does not match (residues: 15->10 / atoms: 324->137)\n",
      "-----------------------------\n",
      "\n",
      "J3_7RQ8_003.cif: Perhaps same residue ID? Number of residues does not match (residues: 15->10 / atoms: 324->137)\n",
      "-----------------------------\n",
      "\n",
      "J3_7RQB_003.cif: Perhaps same residue ID? Number of residues does not match (residues: 15->10 / atoms: 324->137)\n",
      "-----------------------------\n",
      "\n"
     ]
    }
   ],
   "source": [
    "if __name__ == \"__main__\":\n",
    "    base_path = os.path.dirname(os.path.abspath(\"__file__\")).strip('notebooks')\n",
    "    \n",
    "    #files_for_bpcatalog = glob.glob(os.path.join(base_path) + \"data/bpcatalog/*/*.cif\")\n",
    "    #files_for_triplebase = glob.glob(os.path.join(base_path) + \"data/triplebase/*/*.pdb\")\n",
    "    files_for_hairpins = glob.glob(os.path.join(base_path) + \"data/HairpinLoopMotifAtlasRelease3.57/*.cif\")\n",
    "    files_for_internals = glob.glob(os.path.join(base_path) + \"data/InternalLoopMotifAtlasRelease3.57/*.cif\")\n",
    "    files_for_junctions = glob.glob(os.path.join(base_path) + \"data/nrlist_3.233_2.5A/JunctionLoop/*.cif\")\n",
    "    \n",
    "    #files = files_for_bpcatalog + files_for_triplebase + files_for_hairpins + files_for_internals + files_for_junctions\n",
    "    files = files_for_hairpins + files_for_internals + files_for_junctions\n",
    "    \n",
    "    for file in files:\n",
    "        check_file(file)"
   ]
  },
  {
   "cell_type": "code",
   "execution_count": null,
   "id": "554d2113",
   "metadata": {},
   "outputs": [],
   "source": []
  },
  {
   "cell_type": "code",
   "execution_count": null,
   "id": "f82fffdf",
   "metadata": {},
   "outputs": [],
   "source": []
  },
  {
   "cell_type": "code",
   "execution_count": null,
   "id": "646bd8c1",
   "metadata": {},
   "outputs": [],
   "source": []
  }
 ],
 "metadata": {
  "kernelspec": {
   "display_name": "Python 3 (ipykernel)",
   "language": "python",
   "name": "python3"
  },
  "language_info": {
   "codemirror_mode": {
    "name": "ipython",
    "version": 3
   },
   "file_extension": ".py",
   "mimetype": "text/x-python",
   "name": "python",
   "nbconvert_exporter": "python",
   "pygments_lexer": "ipython3",
   "version": "3.10.5"
  }
 },
 "nbformat": 4,
 "nbformat_minor": 5
}
