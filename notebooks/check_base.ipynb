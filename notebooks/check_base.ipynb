{
 "cells": [
  {
   "cell_type": "code",
   "execution_count": 1,
   "id": "024e4788",
   "metadata": {},
   "outputs": [],
   "source": [
    "import os, sys, shutil\n",
    "import pathlib\n",
    "import glob as glob\n",
    "import numpy as np\n",
    "import re\n",
    "import warnings\n",
    "from pdbfixer import PDBFixer\n",
    "from openmm.app import PDBxFile, PDBFile"
   ]
  },
  {
   "cell_type": "code",
   "execution_count": 2,
   "id": "207e81a6",
   "metadata": {},
   "outputs": [],
   "source": [
    "#warnings.filterwarnings(\"ignore\")"
   ]
  },
  {
   "cell_type": "code",
   "execution_count": 3,
   "id": "ed95eb0e",
   "metadata": {},
   "outputs": [],
   "source": [
    "def replace_string(l, chain, new_chain, rid, new_rid):\n",
    "    if len(rid) == 1:\n",
    "        nl = l.replace(\"{}   {}\".format(chain, rid), \"{}   {}\".format(new_chain, new_rid))\n",
    "    elif len(rid) == 2:\n",
    "        nl = l.replace(\"{}  {}\".format(chain, rid), \"{}  {}\".format(new_chain, new_rid))\n",
    "    elif len(rid) == 3:\n",
    "        nl = l.replace(\"{} {}\".format(chain, rid), \"{} {}\".format(new_chain, new_rid))\n",
    "    elif len(rid) == 4:\n",
    "        nl = l.replace(\"{}{}\".format(chain, rid), \"{}{}\".format(new_chain, new_rid))\n",
    "    return nl"
   ]
  },
  {
   "cell_type": "code",
   "execution_count": 4,
   "id": "3290f3c6",
   "metadata": {},
   "outputs": [],
   "source": [
    "def renumber_resid(f):\n",
    "    arr = []\n",
    "    count = 0\n",
    "    new_rid = 0\n",
    "    with open(f, \"r\") as wf:\n",
    "        for l in wf.readlines():\n",
    "            if l.startswith('ATOM'):\n",
    "                _l = l.strip('\\n').split()\n",
    "                aid = str(_l[1])\n",
    "                aname = str(_l[2])\n",
    "                \n",
    "                # handle four digit resid (e.g. C1983)\n",
    "                x = str(_l[4])\n",
    "                if len(x) == 5:\n",
    "                    chain = str(x[:1])\n",
    "                    rid = str(x[1:])\n",
    "                else:\n",
    "                    chain = str(_l[4])\n",
    "                    rid = str(_l[5])\n",
    "\n",
    "                # convert numeric chain to alphabet\n",
    "                if chain.isnumeric():\n",
    "                    new_chain = \"X\"\n",
    "                else:\n",
    "                    new_chain = chain\n",
    "                    \n",
    "                # check resid update\n",
    "                if aname == 'P':\n",
    "                    new_rid = str(int(rid) + count)\n",
    "                    nl = replace_string(l, chain, new_chain, rid, new_rid)\n",
    "                    arr.append(nl)\n",
    "                    count += 1\n",
    "                else:\n",
    "                    nl = replace_string(l, chain, new_chain, rid, new_rid)\n",
    "                    arr.append(nl)\n",
    "            else:\n",
    "                arr.append(l)\n",
    "\n",
    "    # export pdb\n",
    "    shutil.move(f, f + \".duplicateAtoms\")\n",
    "    with open(f, \"w\") as wf:\n",
    "        for a in arr:\n",
    "            wf.write(a)"
   ]
  },
  {
   "cell_type": "code",
   "execution_count": 5,
   "id": "cc3b4fcc",
   "metadata": {},
   "outputs": [],
   "source": [
    "def check_pdb(file):    \n",
    "    n_warnings = 0\n",
    "    basename = os.path.basename(file)\n",
    "    #print(\">{}\".format(basename))\n",
    "    \n",
    "    try:\n",
    "        with warnings.catch_warnings(record=True) as w:\n",
    "            warnings.simplefilter(\"default\")\n",
    "            fixer = PDBFixer(filename=file)\n",
    "\n",
    "        # check missing atoms\n",
    "        fixer.findMissingResidues()\n",
    "        fixer.findMissingAtoms()\n",
    "        if fixer.missingAtoms:\n",
    "            print(\"{}: Missing atoms -> Will be removed in the next step\".format(basename))\n",
    "            n_warnings = 1\n",
    "            shutil.copy(file, file + \".missingAtoms\")\n",
    "\n",
    "        # check duplicate atoms (same residue ID)\n",
    "        x = [ x for x in w if \"duplicate atom\" in str(x) ]\n",
    "        if len(x) != 0:\n",
    "            print(\"{}: Duplicate atoms -> Renumber residue ID\".format(basename))\n",
    "            n_warnings = 2\n",
    "            renumber_resid(file)\n",
    "\n",
    "    except:\n",
    "        print(\"{}: Could not load file\".format(basename))\n",
    "        shutil.move(file, file + \".error\")"
   ]
  },
  {
   "cell_type": "code",
   "execution_count": 6,
   "id": "9e232ae8",
   "metadata": {},
   "outputs": [],
   "source": [
    "def check_cif(file):\n",
    "    basename = os.path.basename(file)\n",
    "    #print(\">{}\".format(basename))\n",
    "\n",
    "    with warnings.catch_warnings(record=True) as w:\n",
    "        warnings.simplefilter(\"default\")\n",
    "        fixer = PDBFixer(filename=file)\n",
    "\n",
    "    # seems to only work for pdb...\n",
    "    #fixer.findMissingResidues()\n",
    "    #fixer.findMissingAtoms()\n",
    "    #if fixer.missingAtoms:\n",
    "    #    print(\"{}: Missing atoms -> Will be removed in the next step\".format(basename))\n",
    "\n",
    "    n_atoms = 0\n",
    "    n_residues = 0\n",
    "    with open(file, \"r\") as rf:\n",
    "        for l in rf.readlines():\n",
    "            _l = l.strip('\\n').split()\n",
    "            if l.startswith(\"ATOM\"):\n",
    "                n_atoms += 1\n",
    "                symbol = _l[2]\n",
    "                if symbol == \"P\":\n",
    "                    n_residues += 1\n",
    "\n",
    "\n",
    "    if fixer.topology.getNumAtoms() != n_atoms:\n",
    "        print(\"{}: number of atoms does not match (residues: {}->{} / atoms: {}->{})\".format(basename, \\\n",
    "                                                                                             n_residues, fixer.topology.getNumResidues(), \\\n",
    "                                                                                             n_atoms, fixer.topology.getNumAtoms()))\n",
    "        # export pdb\n",
    "        shutil.move(file, file + \".warning\")\n",
    "        \n",
    "    else:\n",
    "        outfile = file.split('.cif')[0] + \".pdb\"\n",
    "        PDBFile.writeFile(fixer.topology, fixer.positions, open(outfile, \"w\"))"
   ]
  },
  {
   "cell_type": "code",
   "execution_count": 7,
   "id": "1f3b8f0b",
   "metadata": {},
   "outputs": [
    {
     "name": "stdout",
     "output_type": "stream",
     "text": [
      "BP_cWH_GG.cif: number of atoms does not match (residues: 2->1 / atoms: 46->23)\n",
      "BP_cWH_UU.cif: number of atoms does not match (residues: 2->1 / atoms: 40->20)\n"
     ]
    }
   ],
   "source": [
    "if __name__ == \"__main__\":\n",
    "    base_path = os.path.dirname(os.path.abspath(\"__file__\")).strip('notebooks')\n",
    "       \n",
    "    files_for_bpcatalog = glob.glob(os.path.join(base_path) + \"data/bpcatalog/*/*.cif\")\n",
    "    files_for_triplebase = glob.glob(os.path.join(base_path) + \"data/triplebase/*/*.pdb\")\n",
    "    \n",
    "    # triple\n",
    "    for file in files_for_triplebase:\n",
    "        check_pdb(file)\n",
    "        \n",
    "    # double\n",
    "    for file in files_for_bpcatalog:\n",
    "        check_cif(file)"
   ]
  },
  {
   "cell_type": "markdown",
   "id": "769587b4",
   "metadata": {},
   "source": [
    "### check modfied files"
   ]
  },
  {
   "cell_type": "code",
   "execution_count": 9,
   "id": "6546a906",
   "metadata": {},
   "outputs": [],
   "source": [
    "f = base_path + \"data/bpcatalog/cWH/BP_cWH_GG.cif\"\n",
    "check_cif(f)"
   ]
  },
  {
   "cell_type": "code",
   "execution_count": 10,
   "id": "70fe5213",
   "metadata": {},
   "outputs": [],
   "source": [
    "f = base_path + \"data/bpcatalog/cWH/BP_cWH_UU.cif\"\n",
    "check_cif(f)"
   ]
  },
  {
   "cell_type": "code",
   "execution_count": null,
   "id": "4efe990f",
   "metadata": {},
   "outputs": [],
   "source": []
  }
 ],
 "metadata": {
  "kernelspec": {
   "display_name": "Python 3 (ipykernel)",
   "language": "python",
   "name": "python3"
  },
  "language_info": {
   "codemirror_mode": {
    "name": "ipython",
    "version": 3
   },
   "file_extension": ".py",
   "mimetype": "text/x-python",
   "name": "python",
   "nbconvert_exporter": "python",
   "pygments_lexer": "ipython3",
   "version": "3.10.5"
  }
 },
 "nbformat": 4,
 "nbformat_minor": 5
}
