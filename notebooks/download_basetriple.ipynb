{
 "cells": [
  {
   "cell_type": "markdown",
   "id": "aeb4f5e8",
   "metadata": {},
   "source": [
    "# Download [RNA base triple database](http://rna.bgsu.edu/triples/triples.php)"
   ]
  },
  {
   "cell_type": "code",
   "execution_count": 1,
   "id": "2f3b951e",
   "metadata": {},
   "outputs": [],
   "source": [
    "import os, sys, shutil\n",
    "import pathlib\n",
    "import glob as glob\n",
    "import numpy as np\n",
    "import json\n",
    "import wget\n",
    "from itertools import product\n",
    "from zipfile import ZipFile\n",
    "from pdbfixer import PDBFixer\n",
    "import warnings\n",
    "from openbabel import openbabel\n",
    "#import time"
   ]
  },
  {
   "cell_type": "code",
   "execution_count": 2,
   "id": "70c4b152",
   "metadata": {},
   "outputs": [],
   "source": [
    "#openbabel.obErrorLog.SetOutputLevel(0)\n",
    "#openbabel.obErrorLog.StopLogging()"
   ]
  },
  {
   "cell_type": "code",
   "execution_count": 3,
   "id": "3015235d",
   "metadata": {
    "scrolled": true
   },
   "outputs": [],
   "source": [
    "#warnings.filterwarnings(\"ignore\")\n",
    "#sys.stderr = sys.__stderr__"
   ]
  },
  {
   "cell_type": "code",
   "execution_count": 4,
   "id": "3fc17184",
   "metadata": {},
   "outputs": [],
   "source": [
    "url = \"http://rna.bgsu.edu/triples/zip\"\n",
    "release_version = \"v1.4\""
   ]
  },
  {
   "cell_type": "code",
   "execution_count": 5,
   "id": "2d381a62",
   "metadata": {},
   "outputs": [],
   "source": [
    "base_path = os.path.dirname(os.path.abspath(\"__file__\")).strip('notebooks')\n",
    "#output_path = os.path.join(base_path, \"pdb\", \"triplebase\")\n",
    "output_path = os.path.join(base_path, \"data\", \"triplebase\")"
   ]
  },
  {
   "cell_type": "code",
   "execution_count": 6,
   "id": "5e203c39",
   "metadata": {},
   "outputs": [
    {
     "name": "stdout",
     "output_type": "stream",
     "text": [
      ">remove directory: /Users/takabak/work/rna_bgsu/data/triplebase\n"
     ]
    }
   ],
   "source": [
    "if os.path.isdir(output_path):\n",
    "    print(\">remove directory: {}\".format(output_path))\n",
    "    shutil.rmtree(output_path)\n",
    "    \n",
    "pathlib.Path(output_path).mkdir(parents=True, exist_ok=True) "
   ]
  },
  {
   "cell_type": "code",
   "execution_count": 7,
   "id": "3677d065",
   "metadata": {},
   "outputs": [],
   "source": [
    "d = \"GCAU\"\n",
    "arr = list(product(d, repeat=3))"
   ]
  },
  {
   "cell_type": "code",
   "execution_count": 8,
   "id": "42f192f8",
   "metadata": {
    "scrolled": true
   },
   "outputs": [],
   "source": [
    "for a in arr:\n",
    "    seq = ''.join(a)    \n",
    "    _output_path = os.path.join(output_path, seq)\n",
    "    _url = os.path.join(url, release_version, seq + \".zip\")\n",
    "    \n",
    "    #print('{}.zip'.format(seq))\n",
    "    wget.download(_url, out=output_path, bar=None)     \n",
    "    shutil.unpack_archive('{}.zip'.format(_output_path), _output_path)"
   ]
  },
  {
   "cell_type": "code",
   "execution_count": 9,
   "id": "2fd813d4",
   "metadata": {},
   "outputs": [],
   "source": [
    "# delete zip file\n",
    "for a in arr:\n",
    "    seq = ''.join(a)\n",
    "    os.remove(os.path.join(output_path, seq + \".zip\"))"
   ]
  },
  {
   "cell_type": "markdown",
   "id": "e0f14df5",
   "metadata": {},
   "source": [
    "### check pdb"
   ]
  },
  {
   "cell_type": "code",
   "execution_count": 10,
   "id": "5b700e32",
   "metadata": {},
   "outputs": [],
   "source": [
    "def renumber_resid(f):\n",
    "    arr = []\n",
    "    count = 0\n",
    "    new_rid = 0\n",
    "    with open(f, \"r\") as wf:\n",
    "        for l in wf.readlines():\n",
    "            if l.startswith('ATOM'):\n",
    "                _l = l.strip('\\n').split()\n",
    "                aid = str(_l[1])\n",
    "                aname = str(_l[2])\n",
    "                \n",
    "                # handle four digit resid (e.g. C1983)\n",
    "                x = str(_l[4])\n",
    "                if len(x) == 5:\n",
    "                    chain = str(x[:1])\n",
    "                    rid = str(x[1:])\n",
    "                else:\n",
    "                    chain = str(_l[4])\n",
    "                    rid = str(_l[5])\n",
    "\n",
    "                # convert numeric chain to alphabet\n",
    "                if chain.isnumeric():\n",
    "                    new_chain = \"X\"\n",
    "                else:\n",
    "                    new_chain = chain\n",
    "                    \n",
    "                # check resid update\n",
    "                if aname == 'P':\n",
    "                    new_rid = str(int(rid) + count)\n",
    "                    nl = replace_string(l, chain, new_chain, rid, new_rid)\n",
    "                    arr.append(nl)\n",
    "                    count += 1\n",
    "                else:\n",
    "                    nl = replace_string(l, chain, new_chain, rid, new_rid)\n",
    "                    arr.append(nl)\n",
    "            else:\n",
    "                arr.append(l)\n",
    "\n",
    "    # export pdb\n",
    "    shutil.move(f, f + \".duplicateAtoms\")\n",
    "    with open(f, \"w\") as wf:\n",
    "        for a in arr:\n",
    "            wf.write(a)\n",
    "    \n",
    "    # check if new pdb passes PDBFixer\n",
    "    with warnings.catch_warnings(record=True) as w:\n",
    "        warnings.simplefilter(\"default\")\n",
    "        fixer = PDBFixer(filename=f)\n",
    "        if len(w) != 0:\n",
    "            print(\"{}: Error after renumbering pdb residues\")"
   ]
  },
  {
   "cell_type": "code",
   "execution_count": 11,
   "id": "c1658cff",
   "metadata": {},
   "outputs": [],
   "source": [
    "def replace_string(l, chain, new_chain, rid, new_rid):\n",
    "    if len(rid) == 1:\n",
    "        nl = l.replace(\"{}   {}\".format(chain, rid), \"{}   {}\".format(new_chain, new_rid))\n",
    "    elif len(rid) == 2:\n",
    "        nl = l.replace(\"{}  {}\".format(chain, rid), \"{}  {}\".format(new_chain, new_rid))\n",
    "    elif len(rid) == 3:\n",
    "        nl = l.replace(\"{} {}\".format(chain, rid), \"{} {}\".format(new_chain, new_rid))\n",
    "    elif len(rid) == 4:\n",
    "        nl = l.replace(\"{}{}\".format(chain, rid), \"{}{}\".format(new_chain, new_rid))\n",
    "    return nl"
   ]
  },
  {
   "cell_type": "code",
   "execution_count": 12,
   "id": "e3ce771b",
   "metadata": {},
   "outputs": [],
   "source": [
    "files = glob.glob(output_path + \"/*/*.pdb\")"
   ]
  },
  {
   "cell_type": "code",
   "execution_count": 13,
   "id": "d0ac9e9e",
   "metadata": {},
   "outputs": [
    {
     "name": "stdout",
     "output_type": "stream",
     "text": [
      "Triple_tHW_tHS_GCC.pdb: Error\n"
     ]
    }
   ],
   "source": [
    "for f in files:\n",
    "    basename = os.path.basename(f)\n",
    "\n",
    "    try:\n",
    "        # check converted pdb with PDBFixer\n",
    "        with warnings.catch_warnings(record=True) as w:\n",
    "            warnings.simplefilter(\"default\")\n",
    "            fixer = PDBFixer(filename=f)    \n",
    "\n",
    "        # raise warning if duplicate residue exists\n",
    "        if len(w) != 0:\n",
    "            #print(\">{}: renumber residues\".format(basename))\n",
    "            renumber_resid(f)\n",
    "            \n",
    "    except:\n",
    "        print(\"{}: Error\".format(basename))\n",
    "        shutil.move(f, f + \".error\")"
   ]
  },
  {
   "cell_type": "markdown",
   "id": "dbb858ee",
   "metadata": {},
   "source": [
    "### check if modified files could be loaded with PDBFixer"
   ]
  },
  {
   "cell_type": "code",
   "execution_count": 14,
   "id": "ab403428",
   "metadata": {},
   "outputs": [],
   "source": [
    "f = os.path.join(output_path, \"GCC\", \"Triple_tHW_tHS_GCC.pdb\")"
   ]
  },
  {
   "cell_type": "code",
   "execution_count": 15,
   "id": "b30af92e",
   "metadata": {},
   "outputs": [
    {
     "data": {
      "text/plain": [
       "'/Users/takabak/work/rna_bgsu/data/triplebase/GCC/Triple_tHW_tHS_GCC.pdb'"
      ]
     },
     "execution_count": 15,
     "metadata": {},
     "output_type": "execute_result"
    }
   ],
   "source": [
    "f"
   ]
  },
  {
   "cell_type": "code",
   "execution_count": 16,
   "id": "a25b89d1",
   "metadata": {},
   "outputs": [],
   "source": [
    "fixer = PDBFixer(filename=f)"
   ]
  },
  {
   "cell_type": "code",
   "execution_count": null,
   "id": "67bc627e",
   "metadata": {},
   "outputs": [],
   "source": []
  }
 ],
 "metadata": {
  "kernelspec": {
   "display_name": "Python 3 (ipykernel)",
   "language": "python",
   "name": "python3"
  },
  "language_info": {
   "codemirror_mode": {
    "name": "ipython",
    "version": 3
   },
   "file_extension": ".py",
   "mimetype": "text/x-python",
   "name": "python",
   "nbconvert_exporter": "python",
   "pygments_lexer": "ipython3",
   "version": "3.10.5"
  }
 },
 "nbformat": 4,
 "nbformat_minor": 5
}
