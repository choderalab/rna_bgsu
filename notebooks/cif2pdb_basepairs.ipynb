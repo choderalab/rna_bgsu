{
 "cells": [
  {
   "cell_type": "markdown",
   "id": "015b7457",
   "metadata": {},
   "source": [
    "# Convert cif files from basepair catalogs into pdb"
   ]
  },
  {
   "cell_type": "code",
   "execution_count": 1,
   "id": "05a757ed",
   "metadata": {},
   "outputs": [],
   "source": [
    "import os, sys, shutil\n",
    "import pathlib\n",
    "import glob as glob\n",
    "import numpy as np\n",
    "import re\n",
    "from openbabel import openbabel"
   ]
  },
  {
   "cell_type": "code",
   "execution_count": 2,
   "id": "3b6ca16c",
   "metadata": {},
   "outputs": [],
   "source": [
    "def make_dir(output_path):\n",
    "    \"\"\"\n",
    "    Create output directory\n",
    "    \"\"\"\n",
    "    if os.path.isdir(output_path):\n",
    "        print(\">remove directory\")\n",
    "        shutil.rmtree(output_path)\n",
    "    \n",
    "    pathlib.Path(output_path).mkdir(parents=True, exist_ok=True)"
   ]
  },
  {
   "cell_type": "code",
   "execution_count": 3,
   "id": "5f33017c",
   "metadata": {},
   "outputs": [],
   "source": [
    "def convert_cif(output_path, cif):\n",
    "    \"\"\"\n",
    "    \"\"\"     \n",
    "    basename = os.path.basename(file).split('.cif')[0]\n",
    "    pdb = os.path.join(output_path, basename + \".pdb\")\n",
    "        \n",
    "    cif_to_pdb(cif, pdb)"
   ]
  },
  {
   "cell_type": "code",
   "execution_count": 4,
   "id": "68c5ca14",
   "metadata": {},
   "outputs": [],
   "source": [
    "def cif_to_pdb(cif, pdb):\n",
    "    \"\"\"\n",
    "    \"\"\"\n",
    "    obConversion = openbabel.OBConversion()\n",
    "    obConversion.SetInAndOutFormats(\"cif\", \"pdb\")\n",
    "\n",
    "    mol = openbabel.OBMol()\n",
    "    obConversion.ReadFile(mol, cif)   # Open Babel will uncompress automatically\n",
    "\n",
    "    #mol.AddHydrogens()\n",
    "\n",
    "    #print mol.NumAtoms()\n",
    "    #print mol.NumBonds()\n",
    "    #print mol.NumResidues()\n",
    "\n",
    "    obConversion.WriteFile(mol, pdb)"
   ]
  },
  {
   "cell_type": "code",
   "execution_count": 5,
   "id": "0ee36881",
   "metadata": {},
   "outputs": [],
   "source": [
    "if __name__ == \"__main__\":\n",
    "    \n",
    "    base_path = os.path.dirname(os.path.abspath(\"__file__\")).strip('notebooks')\n",
    "    \n",
    "    release_version = \"bpcatalog\"\n",
    "    output_path = os.path.join(base_path, \"pdb\", release_version)\n",
    "    make_dir(output_path)\n",
    "    \n",
    "    files = glob.glob(os.path.join(base_path, \"data\", \"bpcatalog\", \"*\", \"*.cif\"))\n",
    "    for file in files:\n",
    "        #print(filename)\n",
    "        convert_cif(output_path, file)"
   ]
  },
  {
   "cell_type": "code",
   "execution_count": null,
   "id": "3e7ea933",
   "metadata": {},
   "outputs": [],
   "source": []
  },
  {
   "cell_type": "code",
   "execution_count": null,
   "id": "00fe332a",
   "metadata": {},
   "outputs": [],
   "source": []
  }
 ],
 "metadata": {
  "kernelspec": {
   "display_name": "Python 3 (ipykernel)",
   "language": "python",
   "name": "python3"
  },
  "language_info": {
   "codemirror_mode": {
    "name": "ipython",
    "version": 3
   },
   "file_extension": ".py",
   "mimetype": "text/x-python",
   "name": "python",
   "nbconvert_exporter": "python",
   "pygments_lexer": "ipython3",
   "version": "3.10.4"
  }
 },
 "nbformat": 4,
 "nbformat_minor": 5
}
