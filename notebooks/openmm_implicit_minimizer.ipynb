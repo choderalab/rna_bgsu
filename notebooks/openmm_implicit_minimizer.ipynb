{
 "cells": [
  {
   "cell_type": "markdown",
   "id": "33e9514e",
   "metadata": {},
   "source": [
    "## Minimize structures\n",
    "\n",
    "Add missing hydrogen using pdbfixer. 5' base will be automatically detected so there is no need to change the first residue name.\n",
    "\n",
    "**Notes**\n",
    "Alternatively, missing hydrogens could be added by pdb4amber. Note that the first residue needs to be modify (e.g. A --> A5).\n",
    ">import pdb4amber  \n",
    ">pdb4amber.run(arg_pdbin='input.pdb', arg_pdbout='pdb4amber.pdb', arg_add_missing_atoms=True)\n",
    "\n",
    "**References**\n",
    "- [OpenMM-Tricks-and-Recipes](https://github-wiki-see.page/m/ParmEd/ParmEd/wiki/OpenMM-Tricks-and-Recipes)\n",
    "- [OPENMM_TUTORIAL](https://gpantel.github.io/assets/PDF/OpenMM_Tutorial.pdf)  "
   ]
  },
  {
   "cell_type": "code",
   "execution_count": 1,
   "id": "ae2fad63",
   "metadata": {},
   "outputs": [],
   "source": [
    "import os, sys, shutil\n",
    "import pathlib\n",
    "import glob as glob\n",
    "import numpy as np\n",
    "import re\n",
    "import warnings\n",
    "import mdtraj as md\n",
    "from openmm.app import *\n",
    "from openmm import *\n",
    "from openmm.unit import *\n",
    "from sys import stdout\n",
    "from openmm.app import PDBFile\n",
    "from pdbfixer import PDBFixer"
   ]
  },
  {
   "cell_type": "code",
   "execution_count": 9,
   "id": "4a34a4fe",
   "metadata": {},
   "outputs": [],
   "source": [
    "def minimize(output_path, file):\n",
    "    \n",
    "    \"\"\"\n",
    "    load file\n",
    "    \"\"\"\n",
    "    fixer = PDBFixer(filename=file)\n",
    "    fixer.findMissingResidues()\n",
    "    fixer.findNonstandardResidues()\n",
    "    fixer.replaceNonstandardResidues()\n",
    "    fixer.removeHeterogens(True)\n",
    "    fixer.findMissingAtoms()\n",
    "    fixer.addMissingAtoms()\n",
    "    fixer.addMissingHydrogens(7.0)\n",
    "    #fixer.addSolvent(fixer.topology.getUnitCellDimensions())\n",
    "    #PDBFile.writeFile(fixer.topology, fixer.positions, open('pdbfixer.pdb', 'w'))\n",
    "    \n",
    "    \n",
    "    \"\"\"\n",
    "    setup system\n",
    "    \"\"\"\n",
    "    forcefield = ForceField('amber14/RNA.OL3.xml', 'implicit/gbn2.xml')\n",
    "    system = forcefield.createSystem(fixer.topology, nonbondedMethod=NoCutoff, constraints=HBonds)\n",
    "    \n",
    "    # heavy atom restraint\n",
    "    force = CustomExternalForce(\"k*((x-x0)^2+(y-y0)^2+(z-z0)^2)\")\n",
    "    force.addGlobalParameter(\"k\", 5.0*kilocalories_per_mole/angstroms**2)\n",
    "    force.addPerParticleParameter(\"x0\")\n",
    "    force.addPerParticleParameter(\"y0\")\n",
    "    force.addPerParticleParameter(\"z0\")\n",
    "    \n",
    "    for i, atom in enumerate(fixer.topology.atoms()):\n",
    "        if atom.element.symbol != \"H\":\n",
    "            atom_crd = fixer.positions[i]\n",
    "            force.addParticle(i, atom_crd.value_in_unit(nanometers))\n",
    "    system.addForce(force)\n",
    "    \n",
    "    \n",
    "    \"\"\"\n",
    "    minimize structure\n",
    "    \"\"\"\n",
    "    integrator = LangevinIntegrator(300*kelvin, 1/picosecond, 0.002*picoseconds)\n",
    "    simulation = Simulation(fixer.topology, system, integrator)\n",
    "    simulation.context.setPositions(fixer.positions)\n",
    "    simulation.minimizeEnergy(maxIterations=100)\n",
    "    minpositions = simulation.context.getState(getPositions=True).getPositions()\n",
    "    \n",
    "    \"\"\"\n",
    "    save pdb\n",
    "    \"\"\"    \n",
    "    try:\n",
    "        basename = os.path.basename(file)\n",
    "        PDBFile.writeFile(fixer.topology, minpositions, open(os.path.join(output_path, basename), 'w'))   \n",
    "        \n",
    "        # check if simulation can be run properly\n",
    "        simulation.reporters.append(PDBReporter('/Users/takabak/Desktop/dump.pdb', 1))\n",
    "        #simulation.reporters.append(StateDataReporter(stdout, 1, step=True, potentialEnergy=True, temperature=True))\n",
    "        #simulation.reporters.append(StateDataReporter(stdout, 1, step=False, potentialEnergy=False, temperature=False))\n",
    "        simulation.step(1)\n",
    "    except:\n",
    "        print(\"{}: Check structure!!\")"
   ]
  },
  {
   "cell_type": "code",
   "execution_count": 10,
   "id": "62785cea",
   "metadata": {},
   "outputs": [],
   "source": [
    "def test(files):\n",
    "    for f in files:\n",
    "        fixer = PDBFixer(filename=f)\n",
    "        fixer.findMissingResidues()\n",
    "        fixer.findNonstandardResidues()\n",
    "        fixer.findMissingAtoms()\n",
    "        \n",
    "        if fixer.missingAtoms:\n",
    "            print(\"{}: missing atoms\".format(f))\n",
    "            shutil.move(f, f + \".warning\")"
   ]
  },
  {
   "cell_type": "code",
   "execution_count": 11,
   "id": "f136aabb",
   "metadata": {},
   "outputs": [
    {
     "name": "stdout",
     "output_type": "stream",
     "text": [
      ">7632 files found\n"
     ]
    },
    {
     "name": "stderr",
     "output_type": "stream",
     "text": [
      "Context leak detected, msgtracer returned -1\n",
      "Context leak detected, msgtracer returned -1\n",
      "Context leak detected, msgtracer returned -1\n",
      "Context leak detected, msgtracer returned -1\n",
      "Context leak detected, msgtracer returned -1\n",
      "Context leak detected, msgtracer returned -1\n",
      "Context leak detected, msgtracer returned -1\n",
      "Context leak detected, msgtracer returned -1\n"
     ]
    }
   ],
   "source": [
    "if __name__ == \"__main__\":\n",
    "    base_path = os.path.dirname(os.path.abspath(\"__file__\")).strip('notebooks')\n",
    "    output_path = os.path.join(base_path, \"minimized\")\n",
    "\n",
    "    # motif\n",
    "    _path = os.path.join(base_path, \"pdb\", \"motif\", \"cluster\", \"triplebase\")\n",
    "    motif_files = glob.glob(_path + \"/*/centroid/rep*.pdb\")\n",
    "    \n",
    "    # triplebase\n",
    "    _path = os.path.join(base_path, \"pdb\", \"triplebase\")\n",
    "    triplebase_files = glob.glob(_path + \"/*.pdb\" )\n",
    "        \n",
    "    # basepairs\n",
    "    _path = os.path.join(base_path, \"pdb\", \"bpcatalog\")\n",
    "    bpcatalog_files = glob.glob(_path + \"/*.pdb\" )\n",
    "\n",
    "    \n",
    "    files = motif_files + triplebase_files + bpcatalog_files\n",
    "    #files = triplebase_files\n",
    "    print(\">{} files found\".format(len(files)))\n",
    "    \n",
    "    \n",
    "    # check\n",
    "    #test(files)\n",
    "    \n",
    "    \n",
    "    for file in files:\n",
    "        minimize(output_path, file)"
   ]
  },
  {
   "cell_type": "code",
   "execution_count": null,
   "id": "67701312",
   "metadata": {},
   "outputs": [],
   "source": []
  },
  {
   "cell_type": "markdown",
   "id": "a7ec1951",
   "metadata": {},
   "source": [
    "### simple test"
   ]
  },
  {
   "cell_type": "code",
   "execution_count": null,
   "id": "a76aa040",
   "metadata": {},
   "outputs": [],
   "source": [
    "#f = files[0]\n",
    "f = \"/Users/takabak/work/rna_bgsu/pdb/triplebase/Triple_cSW_tHH_AGA.pdb\"\n",
    "#f = \"/Users/takabak/sftp/Triple_cHH_cSS_GAA.pdb\"\n",
    "#f = \"/Users/takabak/sftp/BP_cHH_AG.pdb\"\n",
    "#f = \"/Users/takabak/sftp/HL_21000.1_AAA_6.pdb\""
   ]
  },
  {
   "cell_type": "code",
   "execution_count": null,
   "id": "12d13a0b",
   "metadata": {},
   "outputs": [],
   "source": [
    "fixer = PDBFixer(filename=f)\n",
    "fixer.findMissingResidues()\n",
    "fixer.findNonstandardResidues()\n",
    "fixer.replaceNonstandardResidues()\n",
    "fixer.removeHeterogens(True)\n",
    "fixer.findMissingAtoms()\n",
    "fixer.addMissingAtoms()\n",
    "fixer.addMissingHydrogens(7.0)\n",
    "#fixer.addSolvent(fixer.topology.getUnitCellDimensions())\n",
    "#PDBFile.writeFile(fixer.topology, fixer.positions, open('pdbfixer.pdb', 'w'))"
   ]
  },
  {
   "cell_type": "code",
   "execution_count": null,
   "id": "6c1c4346",
   "metadata": {},
   "outputs": [],
   "source": [
    "#pdb = PDBFile('pdb4amber.pdb')\n",
    "#pdb = PDBFile('pdbfixer.pdb')"
   ]
  },
  {
   "cell_type": "code",
   "execution_count": null,
   "id": "62e359d6",
   "metadata": {},
   "outputs": [],
   "source": [
    "#forcefield = ForceField('amber14-all.xml', 'amber14/tip3pfb.xml')\n",
    "forcefield = ForceField('amber14/RNA.OL3.xml', 'implicit/gbn2.xml')"
   ]
  },
  {
   "cell_type": "code",
   "execution_count": null,
   "id": "71bcc6bb",
   "metadata": {},
   "outputs": [],
   "source": [
    "#system = forcefield.createSystem(pdb.topology, nonbondedMethod=PME, nonbondedCutoff=1*nanometer, constraints=HBonds)\n",
    "system = forcefield.createSystem(fixer.topology, nonbondedMethod=NoCutoff, constraints=HBonds)"
   ]
  },
  {
   "cell_type": "code",
   "execution_count": null,
   "id": "4f93d1c9",
   "metadata": {},
   "outputs": [],
   "source": [
    "force = CustomExternalForce(\"k*((x-x0)^2+(y-y0)^2+(z-z0)^2)\")\n",
    "force.addGlobalParameter(\"k\", 5.0*kilocalories_per_mole/angstroms**2)\n",
    "force.addPerParticleParameter(\"x0\")\n",
    "force.addPerParticleParameter(\"y0\")\n",
    "force.addPerParticleParameter(\"z0\")\n",
    "\n",
    "for i, atom in enumerate(fixer.topology.atoms()):\n",
    "    if atom.element.symbol != \"H\":\n",
    "        atom_crd = fixer.positions[i]\n",
    "        force.addParticle(i, atom_crd.value_in_unit(nanometers))\n",
    "\n",
    "system.addForce(force)"
   ]
  },
  {
   "cell_type": "code",
   "execution_count": null,
   "id": "e5fb3961",
   "metadata": {},
   "outputs": [],
   "source": [
    "integrator = LangevinIntegrator(300*kelvin, 1/picosecond, 0.002*picoseconds)\n",
    "simulation = Simulation(fixer.topology, system, integrator)\n",
    "simulation.context.setPositions(fixer.positions)"
   ]
  },
  {
   "cell_type": "code",
   "execution_count": null,
   "id": "39059b35",
   "metadata": {},
   "outputs": [],
   "source": [
    "simulation.minimizeEnergy(maxIterations=100)"
   ]
  },
  {
   "cell_type": "code",
   "execution_count": null,
   "id": "67418449",
   "metadata": {},
   "outputs": [],
   "source": [
    "minpositions = simulation.context.getState(getPositions=True).getPositions()\n",
    "PDBFile.writeFile(fixer.topology, minpositions, open('/Users/takabak/Desktop/min.pdb', 'w'))"
   ]
  },
  {
   "cell_type": "code",
   "execution_count": null,
   "id": "5d8cb6af",
   "metadata": {},
   "outputs": [],
   "source": [
    "simulation.reporters.append(PDBReporter('/Users/takabak/Desktop/output.pdb', 100))\n",
    "simulation.reporters.append(StateDataReporter(stdout, 100, step=True, potentialEnergy=True, temperature=True))\n",
    "simulation.step(1000)"
   ]
  },
  {
   "cell_type": "code",
   "execution_count": null,
   "id": "cea7538b",
   "metadata": {},
   "outputs": [],
   "source": []
  }
 ],
 "metadata": {
  "kernelspec": {
   "display_name": "Python 3 (ipykernel)",
   "language": "python",
   "name": "python3"
  },
  "language_info": {
   "codemirror_mode": {
    "name": "ipython",
    "version": 3
   },
   "file_extension": ".py",
   "mimetype": "text/x-python",
   "name": "python",
   "nbconvert_exporter": "python",
   "pygments_lexer": "ipython3",
   "version": "3.10.5"
  }
 },
 "nbformat": 4,
 "nbformat_minor": 5
}
